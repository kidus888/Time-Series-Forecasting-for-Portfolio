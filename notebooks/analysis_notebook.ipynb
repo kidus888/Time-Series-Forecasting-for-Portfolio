{
 "cells": [
  {
   "cell_type": "code",
   "execution_count": null,
   "metadata": {},
   "outputs": [],
   "source": [
    "# Import modules\n",
    "import sys\n",
    "sys.path.append('../scripts') "
   ]
  },
  {
   "cell_type": "code",
   "execution_count": null,
   "metadata": {},
   "outputs": [],
   "source": [
    "from data_fetch import fetch_data\n",
    "from data_preprocessing import preprocess_data, describe_data\n",
    "from eda import plot_closing_price, plot_daily_returns\n",
    "from risk_analysis import calculate_var, calculate_sharpe_ratio"
   ]
  },
  {
   "cell_type": "code",
   "execution_count": null,
   "metadata": {},
   "outputs": [],
   "source": [
    "# Set parameters\n",
    "tickers = ['TSLA', 'BND', 'SPY']\n",
    "start_date = \"2015-01-01\"\n",
    "end_date = \"2024-10-31\""
   ]
  },
  {
   "cell_type": "code",
   "execution_count": null,
   "metadata": {},
   "outputs": [],
   "source": [
    "# Fetch data\n",
    "data = fetch_data(tickers, start_date, end_date)"
   ]
  },
  {
   "cell_type": "code",
   "execution_count": null,
   "metadata": {},
   "outputs": [],
   "source": [
    "# Preprocess and describe data\n",
    "for ticker, df in data.items():\n",
    "    data[ticker] = preprocess_data(df)\n",
    "    print(f\"Basic statistics for {ticker}:\\n\", describe_data(df))"
   ]
  },
  {
   "cell_type": "code",
   "execution_count": null,
   "metadata": {},
   "outputs": [],
   "source": [
    "# Perform EDA\n",
    "plot_closing_price(data)\n",
    "\n",
    "for ticker, df in data.items():\n",
    "    plot_daily_returns(df, ticker)"
   ]
  },
  {
   "cell_type": "code",
   "execution_count": null,
   "metadata": {},
   "outputs": [],
   "source": [
    "# Calculate and print risk metrics\n",
    "for ticker, df in data.items():\n",
    "    df['Daily Return'] = df['Adj Close'].pct_change()  # Ensure daily returns are calculated\n",
    "    var = calculate_var(df)\n",
    "    sharpe_ratio = calculate_sharpe_ratio(df)\n",
    "    print(f\"Risk Metrics for {ticker}:\\nVaR: {var}\\nSharpe Ratio: {sharpe_ratio}\\n\")"
   ]
  }
 ],
 "metadata": {
  "language_info": {
   "name": "python"
  }
 },
 "nbformat": 4,
 "nbformat_minor": 2
}
